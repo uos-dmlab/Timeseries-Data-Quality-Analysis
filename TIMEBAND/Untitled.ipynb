{
 "cells": [
  {
   "cell_type": "code",
   "execution_count": 72,
   "id": "d0b30f0e-4536-41a7-ae7d-2d21e6ea8dbc",
   "metadata": {},
   "outputs": [],
   "source": [
    "import csv\n",
    "import json\n",
    "import pandas as pd"
   ]
  },
  {
   "cell_type": "code",
   "execution_count": 16,
   "id": "43db8282-597c-4b89-9bb7-0750b1cc9416",
   "metadata": {},
   "outputs": [],
   "source": [
    "data = pd.read_csv(\"./data/stock.sample.csv\")"
   ]
  },
  {
   "cell_type": "code",
   "execution_count": 23,
   "id": "d310bc9a-bea6-4825-a17b-5913c639b1d6",
   "metadata": {},
   "outputs": [
    {
     "data": {
      "text/html": [
       "<div>\n",
       "<style scoped>\n",
       "    .dataframe tbody tr th:only-of-type {\n",
       "        vertical-align: middle;\n",
       "    }\n",
       "\n",
       "    .dataframe tbody tr th {\n",
       "        vertical-align: top;\n",
       "    }\n",
       "\n",
       "    .dataframe thead th {\n",
       "        text-align: right;\n",
       "    }\n",
       "</style>\n",
       "<table border=\"1\" class=\"dataframe\">\n",
       "  <thead>\n",
       "    <tr style=\"text-align: right;\">\n",
       "      <th></th>\n",
       "      <th>date</th>\n",
       "      <th>open</th>\n",
       "      <th>high</th>\n",
       "      <th>low</th>\n",
       "      <th>close</th>\n",
       "      <th>volume</th>\n",
       "    </tr>\n",
       "  </thead>\n",
       "  <tbody>\n",
       "    <tr>\n",
       "      <th>0</th>\n",
       "      <td>2001-10-25</td>\n",
       "      <td>13700</td>\n",
       "      <td>13700</td>\n",
       "      <td>13700</td>\n",
       "      <td>13700</td>\n",
       "      <td>17120</td>\n",
       "    </tr>\n",
       "    <tr>\n",
       "      <th>1</th>\n",
       "      <td>2001-10-26</td>\n",
       "      <td>15300</td>\n",
       "      <td>15300</td>\n",
       "      <td>15300</td>\n",
       "      <td>15300</td>\n",
       "      <td>81730</td>\n",
       "    </tr>\n",
       "    <tr>\n",
       "      <th>2</th>\n",
       "      <td>2001-10-29</td>\n",
       "      <td>17100</td>\n",
       "      <td>17100</td>\n",
       "      <td>16800</td>\n",
       "      <td>17100</td>\n",
       "      <td>6532070</td>\n",
       "    </tr>\n",
       "    <tr>\n",
       "      <th>3</th>\n",
       "      <td>2001-10-30</td>\n",
       "      <td>17000</td>\n",
       "      <td>17600</td>\n",
       "      <td>16150</td>\n",
       "      <td>17100</td>\n",
       "      <td>21017010</td>\n",
       "    </tr>\n",
       "    <tr>\n",
       "      <th>4</th>\n",
       "      <td>2001-10-31</td>\n",
       "      <td>17350</td>\n",
       "      <td>17450</td>\n",
       "      <td>16600</td>\n",
       "      <td>16650</td>\n",
       "      <td>6846880</td>\n",
       "    </tr>\n",
       "    <tr>\n",
       "      <th>5</th>\n",
       "      <td>2001-11-01</td>\n",
       "      <td>16650</td>\n",
       "      <td>16800</td>\n",
       "      <td>16050</td>\n",
       "      <td>16150</td>\n",
       "      <td>6524050</td>\n",
       "    </tr>\n",
       "    <tr>\n",
       "      <th>6</th>\n",
       "      <td>2001-11-02</td>\n",
       "      <td>16100</td>\n",
       "      <td>16400</td>\n",
       "      <td>14800</td>\n",
       "      <td>15350</td>\n",
       "      <td>9836000</td>\n",
       "    </tr>\n",
       "    <tr>\n",
       "      <th>7</th>\n",
       "      <td>2001-11-05</td>\n",
       "      <td>15450</td>\n",
       "      <td>16100</td>\n",
       "      <td>14900</td>\n",
       "      <td>16100</td>\n",
       "      <td>10834020</td>\n",
       "    </tr>\n",
       "    <tr>\n",
       "      <th>8</th>\n",
       "      <td>2001-11-06</td>\n",
       "      <td>16200</td>\n",
       "      <td>16250</td>\n",
       "      <td>15750</td>\n",
       "      <td>15750</td>\n",
       "      <td>4986610</td>\n",
       "    </tr>\n",
       "    <tr>\n",
       "      <th>9</th>\n",
       "      <td>2001-11-07</td>\n",
       "      <td>15800</td>\n",
       "      <td>16400</td>\n",
       "      <td>15800</td>\n",
       "      <td>16000</td>\n",
       "      <td>5579670</td>\n",
       "    </tr>\n",
       "  </tbody>\n",
       "</table>\n",
       "</div>"
      ],
      "text/plain": [
       "         date   open   high    low  close    volume\n",
       "0  2001-10-25  13700  13700  13700  13700     17120\n",
       "1  2001-10-26  15300  15300  15300  15300     81730\n",
       "2  2001-10-29  17100  17100  16800  17100   6532070\n",
       "3  2001-10-30  17000  17600  16150  17100  21017010\n",
       "4  2001-10-31  17350  17450  16600  16650   6846880\n",
       "5  2001-11-01  16650  16800  16050  16150   6524050\n",
       "6  2001-11-02  16100  16400  14800  15350   9836000\n",
       "7  2001-11-05  15450  16100  14900  16100  10834020\n",
       "8  2001-11-06  16200  16250  15750  15750   4986610\n",
       "9  2001-11-07  15800  16400  15800  16000   5579670"
      ]
     },
     "execution_count": 23,
     "metadata": {},
     "output_type": "execute_result"
    }
   ],
   "source": [
    "data[:10]"
   ]
  },
  {
   "cell_type": "markdown",
   "id": "2c80fb81-400c-4d5c-9f2f-f09e6b269ba7",
   "metadata": {},
   "source": [
    "## Convert result csv file to json file"
   ]
  },
  {
   "cell_type": "code",
   "execution_count": 74,
   "id": "9d4b8fcb-2922-44de-8887-31fd52ee9f6b",
   "metadata": {},
   "outputs": [],
   "source": [
    "def convert_csv_json(data_file):\n",
    "    input_file_name = \"./TIMEBAND/outputs/\" + data_file + \"/all/visualize.csv\"\n",
    "    output_file_name = \"./TIMEBAND/outputs/\" + data_file + \"/all/visualize.txt\"\n",
    "    with open(input_file_name, \"r\", encoding=\"utf-8\", newline=\"\") as input_file, \\\n",
    "            open(output_file_name, \"w\", encoding=\"utf-8\", newline=\"\") as output_file:\n",
    "        \n",
    "        reader = csv.reader(input_file)\n",
    "        col_names = next(reader)\n",
    "    \n",
    "        for cols in reader:s\n",
    "            doc = {col_name: col for col_name, col in zip(col_names, cols)}\n",
    "            print(json.dumps(doc, ensure_ascii=False), file=output_file)"
   ]
  },
  {
   "cell_type": "code",
   "execution_count": 76,
   "id": "b0301906-28b0-42b2-9db2-1d0525dbd8a9",
   "metadata": {},
   "outputs": [],
   "source": [
    "convert_csv_json(data_file)"
   ]
  },
  {
   "cell_type": "code",
   "execution_count": 78,
   "id": "5d1ebf5d-59cf-48f4-80a2-57210b28f80e",
   "metadata": {},
   "outputs": [
    {
     "ename": "IndentationError",
     "evalue": "unexpected indent (58516003.py, line 5)",
     "output_type": "error",
     "traceback": [
      "\u001b[1;36m  Cell \u001b[1;32mIn[78], line 5\u001b[1;36m\u001b[0m\n\u001b[1;33m    doc = {col_name: col for col_name, col in zip(col_names, cols)}\u001b[0m\n\u001b[1;37m    ^\u001b[0m\n\u001b[1;31mIndentationError\u001b[0m\u001b[1;31m:\u001b[0m unexpected indent\n"
     ]
    }
   ],
   "source": [
    "reader = csv.reader(data_file)\n",
    "col_names = next(reader)\n",
    "\n",
    "for cols in reader:s\n",
    "    doc = {col_name: col for col_name, col in zip(col_names, cols)}"
   ]
  },
  {
   "cell_type": "code",
   "execution_count": null,
   "id": "32f1d22d-e438-47b5-91b2-1c13650381cc",
   "metadata": {},
   "outputs": [],
   "source": []
  },
  {
   "cell_type": "markdown",
   "id": "6a5843ba-3b40-40d6-a95f-00127947caf0",
   "metadata": {},
   "source": [
    "### Convert raw data with json file to dataframe"
   ]
  },
  {
   "cell_type": "code",
   "execution_count": null,
   "id": "3ed8392d-29c6-4737-99b1-975680caca8f",
   "metadata": {},
   "outputs": [],
   "source": [
    "output_file_name = \"./data/stock.sample_t.csv\"\n",
    "with open(output_file_name, \"w\", encoding=\"utf-8\", newline=\"\") as output_file:\n",
    "    data = []\n",
    "    for line in input_file:\n",
    "        datum = json.loads(line)\n",
    "        data.append(datum)\n",
    "        \n",
    "    csvwriter = csv.writer(output_file)\n",
    "    csvwriter.writerow(data[0].keys())\n",
    "    for line in data:\n",
    "        csvwriter.writerow(line.values())"
   ]
  },
  {
   "cell_type": "code",
   "execution_count": 69,
   "id": "6b4e5ba0-2e1f-42c5-9269-8098dc6185b5",
   "metadata": {},
   "outputs": [],
   "source": [
    "data_json = data[:10].to_json()"
   ]
  },
  {
   "cell_type": "code",
   "execution_count": null,
   "id": "131f5ba1-5820-4569-8dca-69f0363b54a9",
   "metadata": {},
   "outputs": [],
   "source": []
  },
  {
   "cell_type": "code",
   "execution_count": null,
   "id": "c479dcb3-a01d-4359-8746-0044bf7eb3a7",
   "metadata": {},
   "outputs": [],
   "source": []
  },
  {
   "cell_type": "code",
   "execution_count": 71,
   "id": "ddb6affc-4353-48ec-8256-11e849554230",
   "metadata": {},
   "outputs": [
    {
     "data": {
      "text/plain": [
       "str"
      ]
     },
     "execution_count": 71,
     "metadata": {},
     "output_type": "execute_result"
    }
   ],
   "source": [
    "type(data_json)"
   ]
  },
  {
   "cell_type": "code",
   "execution_count": 49,
   "id": "168e8b5e-5634-414b-bc2a-fbdc0be58cdb",
   "metadata": {},
   "outputs": [],
   "source": [
    "data_json = json.loads(data_json)"
   ]
  },
  {
   "cell_type": "code",
   "execution_count": 46,
   "id": "e266b35c-e582-4a47-b312-1cf997a2937b",
   "metadata": {},
   "outputs": [],
   "source": [
    "with open(\"./data/file.csv\",\"w\") as file:\n",
    "    file.write(data_json + \"\\n\")"
   ]
  },
  {
   "cell_type": "code",
   "execution_count": 43,
   "id": "183c005d-0400-47f8-8c21-d470ac7a0dd9",
   "metadata": {},
   "outputs": [
    {
     "name": "stderr",
     "output_type": "stream",
     "text": [
      "C:\\Users\\hs\\AppData\\Local\\Temp\\ipykernel_15460\\375808368.py:1: FutureWarning: pandas.io.json.json_normalize is deprecated, use pandas.json_normalize instead\n",
      "  json_normalize(data_json, ['date', 'open' ,'high', 'low', 'close', 'volume'])\n"
     ]
    },
    {
     "ename": "NotImplementedError",
     "evalue": "",
     "output_type": "error",
     "traceback": [
      "\u001b[1;31m---------------------------------------------------------------------------\u001b[0m",
      "\u001b[1;31mNotImplementedError\u001b[0m                       Traceback (most recent call last)",
      "Cell \u001b[1;32mIn[43], line 1\u001b[0m\n\u001b[1;32m----> 1\u001b[0m \u001b[43mjson_normalize\u001b[49m\u001b[43m(\u001b[49m\u001b[43mdata_json\u001b[49m\u001b[43m,\u001b[49m\u001b[43m \u001b[49m\u001b[43m[\u001b[49m\u001b[38;5;124;43m'\u001b[39;49m\u001b[38;5;124;43mdate\u001b[39;49m\u001b[38;5;124;43m'\u001b[39;49m\u001b[43m,\u001b[49m\u001b[43m \u001b[49m\u001b[38;5;124;43m'\u001b[39;49m\u001b[38;5;124;43mopen\u001b[39;49m\u001b[38;5;124;43m'\u001b[39;49m\u001b[43m \u001b[49m\u001b[43m,\u001b[49m\u001b[38;5;124;43m'\u001b[39;49m\u001b[38;5;124;43mhigh\u001b[39;49m\u001b[38;5;124;43m'\u001b[39;49m\u001b[43m,\u001b[49m\u001b[43m \u001b[49m\u001b[38;5;124;43m'\u001b[39;49m\u001b[38;5;124;43mlow\u001b[39;49m\u001b[38;5;124;43m'\u001b[39;49m\u001b[43m,\u001b[49m\u001b[43m \u001b[49m\u001b[38;5;124;43m'\u001b[39;49m\u001b[38;5;124;43mclose\u001b[39;49m\u001b[38;5;124;43m'\u001b[39;49m\u001b[43m,\u001b[49m\u001b[43m \u001b[49m\u001b[38;5;124;43m'\u001b[39;49m\u001b[38;5;124;43mvolume\u001b[39;49m\u001b[38;5;124;43m'\u001b[39;49m\u001b[43m]\u001b[49m\u001b[43m)\u001b[49m\n",
      "File \u001b[1;32m~\\anaconda3\\envs\\test3\\lib\\site-packages\\pandas\\util\\_decorators.py:59\u001b[0m, in \u001b[0;36mdeprecate.<locals>.wrapper\u001b[1;34m(*args, **kwargs)\u001b[0m\n\u001b[0;32m     56\u001b[0m \u001b[38;5;129m@wraps\u001b[39m(alternative)\n\u001b[0;32m     57\u001b[0m \u001b[38;5;28;01mdef\u001b[39;00m \u001b[38;5;21mwrapper\u001b[39m(\u001b[38;5;241m*\u001b[39margs, \u001b[38;5;241m*\u001b[39m\u001b[38;5;241m*\u001b[39mkwargs) \u001b[38;5;241m-\u001b[39m\u001b[38;5;241m>\u001b[39m Callable[\u001b[38;5;241m.\u001b[39m\u001b[38;5;241m.\u001b[39m\u001b[38;5;241m.\u001b[39m, Any]:\n\u001b[0;32m     58\u001b[0m     warnings\u001b[38;5;241m.\u001b[39mwarn(warning_msg, klass, stacklevel\u001b[38;5;241m=\u001b[39mstacklevel)\n\u001b[1;32m---> 59\u001b[0m     \u001b[38;5;28;01mreturn\u001b[39;00m \u001b[43malternative\u001b[49m\u001b[43m(\u001b[49m\u001b[38;5;241;43m*\u001b[39;49m\u001b[43margs\u001b[49m\u001b[43m,\u001b[49m\u001b[43m \u001b[49m\u001b[38;5;241;43m*\u001b[39;49m\u001b[38;5;241;43m*\u001b[39;49m\u001b[43mkwargs\u001b[49m\u001b[43m)\u001b[49m\n",
      "File \u001b[1;32m~\\anaconda3\\envs\\test3\\lib\\site-packages\\pandas\\io\\json\\_normalize.py:423\u001b[0m, in \u001b[0;36m_json_normalize\u001b[1;34m(data, record_path, meta, meta_prefix, record_prefix, errors, sep, max_level)\u001b[0m\n\u001b[0;32m    421\u001b[0m     data \u001b[38;5;241m=\u001b[39m \u001b[38;5;28mlist\u001b[39m(data)\n\u001b[0;32m    422\u001b[0m \u001b[38;5;28;01melse\u001b[39;00m:\n\u001b[1;32m--> 423\u001b[0m     \u001b[38;5;28;01mraise\u001b[39;00m \u001b[38;5;167;01mNotImplementedError\u001b[39;00m\n\u001b[0;32m    425\u001b[0m \u001b[38;5;66;03m# check to see if a simple recursive function is possible to\u001b[39;00m\n\u001b[0;32m    426\u001b[0m \u001b[38;5;66;03m# improve performance (see #15621) but only for cases such\u001b[39;00m\n\u001b[0;32m    427\u001b[0m \u001b[38;5;66;03m# as pd.Dataframe(data) or pd.Dataframe(data, sep)\u001b[39;00m\n\u001b[0;32m    428\u001b[0m \u001b[38;5;28;01mif\u001b[39;00m (\n\u001b[0;32m    429\u001b[0m     record_path \u001b[38;5;129;01mis\u001b[39;00m \u001b[38;5;28;01mNone\u001b[39;00m\n\u001b[0;32m    430\u001b[0m     \u001b[38;5;129;01mand\u001b[39;00m meta \u001b[38;5;129;01mis\u001b[39;00m \u001b[38;5;28;01mNone\u001b[39;00m\n\u001b[1;32m   (...)\u001b[0m\n\u001b[0;32m    433\u001b[0m     \u001b[38;5;129;01mand\u001b[39;00m max_level \u001b[38;5;129;01mis\u001b[39;00m \u001b[38;5;28;01mNone\u001b[39;00m\n\u001b[0;32m    434\u001b[0m ):\n",
      "\u001b[1;31mNotImplementedError\u001b[0m: "
     ]
    }
   ],
   "source": [
    "json_normalize(data_json, ['date', 'open' ,'high', 'low', 'close', 'volume'])"
   ]
  },
  {
   "cell_type": "code",
   "execution_count": null,
   "id": "d635d499-1f89-4fe9-bd34-0e8ce2a82a5b",
   "metadata": {},
   "outputs": [],
   "source": [
    "df = json_normalize(data)\n",
    "df.to_csv('xyz.csv',index=False)"
   ]
  },
  {
   "cell_type": "code",
   "execution_count": null,
   "id": "aa5bbe09-4cd7-40d1-89b8-a44bb9c5629c",
   "metadata": {},
   "outputs": [],
   "source": [
    "with open(\"samplecsv.csv\", 'w') as f: \n",
    "    wr = csv.DictWriter(f, fieldnames = info[0].keys()) \n",
    "    wr.writeheader() \n",
    "    wr.writerows(info) "
   ]
  },
  {
   "cell_type": "code",
   "execution_count": null,
   "id": "e4f7123c-6a64-4cc0-b3c9-6d0aef336201",
   "metadata": {},
   "outputs": [],
   "source": []
  },
  {
   "cell_type": "code",
   "execution_count": 1,
   "id": "869dd557-1e35-43de-80cf-785208dc7309",
   "metadata": {},
   "outputs": [],
   "source": [
    "data_file = \"stock.sample\""
   ]
  },
  {
   "cell_type": "code",
   "execution_count": null,
   "id": "2bf9c80c-bf32-49a9-8d65-64563369b8d8",
   "metadata": {},
   "outputs": [],
   "source": [
    "%run launcher.py -data data_file"
   ]
  },
  {
   "cell_type": "code",
   "execution_count": 3,
   "id": "47f01174-3c15-4d35-ab2b-ab6c0571de0e",
   "metadata": {},
   "outputs": [],
   "source": [
    "import pandas as pd"
   ]
  },
  {
   "cell_type": "code",
   "execution_count": 5,
   "id": "80d663fa-fdc2-4de7-9c9d-193388562dd3",
   "metadata": {},
   "outputs": [
    {
     "data": {
      "text/html": [
       "<div>\n",
       "<style scoped>\n",
       "    .dataframe tbody tr th:only-of-type {\n",
       "        vertical-align: middle;\n",
       "    }\n",
       "\n",
       "    .dataframe tbody tr th {\n",
       "        vertical-align: top;\n",
       "    }\n",
       "\n",
       "    .dataframe thead th {\n",
       "        text-align: right;\n",
       "    }\n",
       "</style>\n",
       "<table border=\"1\" class=\"dataframe\">\n",
       "  <thead>\n",
       "    <tr style=\"text-align: right;\">\n",
       "      <th></th>\n",
       "      <th>Unnamed: 0</th>\n",
       "      <th>real</th>\n",
       "      <th>target</th>\n",
       "      <th>preds</th>\n",
       "      <th>lower</th>\n",
       "      <th>upper</th>\n",
       "    </tr>\n",
       "  </thead>\n",
       "  <tbody>\n",
       "    <tr>\n",
       "      <th>0</th>\n",
       "      <td>01-10-25</td>\n",
       "      <td>13700.0</td>\n",
       "      <td>13700.0</td>\n",
       "      <td>13700.000000</td>\n",
       "      <td>13700.000000</td>\n",
       "      <td>13700.000000</td>\n",
       "    </tr>\n",
       "    <tr>\n",
       "      <th>1</th>\n",
       "      <td>01-10-26</td>\n",
       "      <td>15300.0</td>\n",
       "      <td>15300.0</td>\n",
       "      <td>15300.000000</td>\n",
       "      <td>15300.000000</td>\n",
       "      <td>15300.000000</td>\n",
       "    </tr>\n",
       "    <tr>\n",
       "      <th>2</th>\n",
       "      <td>01-10-29</td>\n",
       "      <td>17100.0</td>\n",
       "      <td>17100.0</td>\n",
       "      <td>17100.000000</td>\n",
       "      <td>17100.000000</td>\n",
       "      <td>17100.000000</td>\n",
       "    </tr>\n",
       "    <tr>\n",
       "      <th>3</th>\n",
       "      <td>01-10-30</td>\n",
       "      <td>17100.0</td>\n",
       "      <td>17100.0</td>\n",
       "      <td>17100.000000</td>\n",
       "      <td>17100.000000</td>\n",
       "      <td>17100.000000</td>\n",
       "    </tr>\n",
       "    <tr>\n",
       "      <th>4</th>\n",
       "      <td>01-10-31</td>\n",
       "      <td>16650.0</td>\n",
       "      <td>16650.0</td>\n",
       "      <td>16650.000000</td>\n",
       "      <td>16650.000000</td>\n",
       "      <td>16650.000000</td>\n",
       "    </tr>\n",
       "    <tr>\n",
       "      <th>...</th>\n",
       "      <td>...</td>\n",
       "      <td>...</td>\n",
       "      <td>...</td>\n",
       "      <td>...</td>\n",
       "      <td>...</td>\n",
       "      <td>...</td>\n",
       "    </tr>\n",
       "    <tr>\n",
       "      <th>4917</th>\n",
       "      <td>21-09-13</td>\n",
       "      <td>27900.0</td>\n",
       "      <td>27900.0</td>\n",
       "      <td>27153.836914</td>\n",
       "      <td>25856.584835</td>\n",
       "      <td>28451.088993</td>\n",
       "    </tr>\n",
       "    <tr>\n",
       "      <th>4918</th>\n",
       "      <td>21-09-14</td>\n",
       "      <td>28100.0</td>\n",
       "      <td>28100.0</td>\n",
       "      <td>27204.537109</td>\n",
       "      <td>25896.723308</td>\n",
       "      <td>28512.350911</td>\n",
       "    </tr>\n",
       "    <tr>\n",
       "      <th>4919</th>\n",
       "      <td>21-09-15</td>\n",
       "      <td>28200.0</td>\n",
       "      <td>28200.0</td>\n",
       "      <td>27400.173828</td>\n",
       "      <td>26125.109631</td>\n",
       "      <td>28675.238025</td>\n",
       "    </tr>\n",
       "    <tr>\n",
       "      <th>4920</th>\n",
       "      <td>21-09-16</td>\n",
       "      <td>28200.0</td>\n",
       "      <td>28200.0</td>\n",
       "      <td>27734.659180</td>\n",
       "      <td>26461.889304</td>\n",
       "      <td>29007.429055</td>\n",
       "    </tr>\n",
       "    <tr>\n",
       "      <th>4921</th>\n",
       "      <td>21-09-17</td>\n",
       "      <td>28350.0</td>\n",
       "      <td>28350.0</td>\n",
       "      <td>27952.123047</td>\n",
       "      <td>26605.857039</td>\n",
       "      <td>29298.389055</td>\n",
       "    </tr>\n",
       "  </tbody>\n",
       "</table>\n",
       "<p>4922 rows × 6 columns</p>\n",
       "</div>"
      ],
      "text/plain": [
       "     Unnamed: 0     real   target         preds         lower         upper\n",
       "0      01-10-25  13700.0  13700.0  13700.000000  13700.000000  13700.000000\n",
       "1      01-10-26  15300.0  15300.0  15300.000000  15300.000000  15300.000000\n",
       "2      01-10-29  17100.0  17100.0  17100.000000  17100.000000  17100.000000\n",
       "3      01-10-30  17100.0  17100.0  17100.000000  17100.000000  17100.000000\n",
       "4      01-10-31  16650.0  16650.0  16650.000000  16650.000000  16650.000000\n",
       "...         ...      ...      ...           ...           ...           ...\n",
       "4917   21-09-13  27900.0  27900.0  27153.836914  25856.584835  28451.088993\n",
       "4918   21-09-14  28100.0  28100.0  27204.537109  25896.723308  28512.350911\n",
       "4919   21-09-15  28200.0  28200.0  27400.173828  26125.109631  28675.238025\n",
       "4920   21-09-16  28200.0  28200.0  27734.659180  26461.889304  29007.429055\n",
       "4921   21-09-17  28350.0  28350.0  27952.123047  26605.857039  29298.389055\n",
       "\n",
       "[4922 rows x 6 columns]"
      ]
     },
     "execution_count": 5,
     "metadata": {},
     "output_type": "execute_result"
    }
   ],
   "source": [
    "pd.read_csv(\"./TIMEBAND/outputs/\" + data_file + \"/all/visualize.csv\")"
   ]
  },
  {
   "cell_type": "code",
   "execution_count": 2,
   "id": "5cb218ba-e25c-4b6d-a36d-0b8dc5d7714c",
   "metadata": {},
   "outputs": [],
   "source": [
    "data"
   ]
  },
  {
   "cell_type": "code",
   "execution_count": null,
   "id": "3cc39c3a-7e8f-43c2-826a-d164f472e5bd",
   "metadata": {},
   "outputs": [],
   "source": []
  },
  {
   "cell_type": "code",
   "execution_count": null,
   "id": "290039fa-c018-48be-a277-2af61b004c77",
   "metadata": {},
   "outputs": [],
   "source": []
  }
 ],
 "metadata": {
  "kernelspec": {
   "display_name": "Python 3 (ipykernel)",
   "language": "python",
   "name": "python3"
  },
  "language_info": {
   "codemirror_mode": {
    "name": "ipython",
    "version": 3
   },
   "file_extension": ".py",
   "mimetype": "text/x-python",
   "name": "python",
   "nbconvert_exporter": "python",
   "pygments_lexer": "ipython3",
   "version": "3.8.13"
  }
 },
 "nbformat": 4,
 "nbformat_minor": 5
}
